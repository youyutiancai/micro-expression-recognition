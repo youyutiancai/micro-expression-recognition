{
 "cells": [
  {
   "cell_type": "code",
   "execution_count": 95,
   "metadata": {},
   "outputs": [],
   "source": [
    "from imutils import face_utils\n",
    "import numpy as np\n",
    "import imutils\n",
    "import cv2\n",
    "import dlib\n",
    "import collections\n",
    "import matplotlib.pyplot as plt\n",
    "%matplotlib inline  "
   ]
  },
  {
   "cell_type": "code",
   "execution_count": 96,
   "metadata": {},
   "outputs": [],
   "source": [
    "# construct the argument parser and parse the arguments\n",
    "shape_predictor = \"shape_predictor_68_face_landmarks.dat\"\n",
    "happyimages = [\"images/happy.png\", \"images/happy1.jpg\", \"images/happy2.jpg\", \"images/happy3.jpg\", \"images/happy4.jpg\", \"images/happy5.jpg\", \"images/happy6.jpg\", \"images/happy7.jpg\"]\n",
    "sadimages = [\"images/sad.jpg\", \"images/sad1.jpg\", \"images/sad2.jpg\", \"images/sad3.png\", \"images/sad4.jpg\", \"images/sad5.jpg\", \"images/sad6.jpg\", \"images/sad7.jpg\"]"
   ]
  },
  {
   "cell_type": "code",
   "execution_count": 97,
   "metadata": {},
   "outputs": [],
   "source": [
    "# initialize dlib's face detector (HOG-based) and then create\n",
    "# the facial landmark predictor\n",
    "detector = dlib.get_frontal_face_detector()\n",
    "predictor = dlib.shape_predictor(shape_predictor)"
   ]
  },
  {
   "cell_type": "code",
   "execution_count": 98,
   "metadata": {},
   "outputs": [],
   "source": [
    " def readImage(image):  \n",
    "    # load the input image, resize it, and convert it to grayscale\n",
    "    image = cv2.imread(image)\n",
    "    image = imutils.resize(image, width=500)\n",
    "    gray = cv2.cvtColor(image, cv2.COLOR_BGR2GRAY)\n",
    "\n",
    "    # detect faces in the grayscale image\n",
    "    rects = detector(gray, 1)\n",
    "\n",
    "    faceparts = dict()\n",
    "    # loop over the face detections\n",
    "    for (i, rect) in enumerate(rects):\n",
    "        # determine the facial landmarks for the face region, then\n",
    "        # convert the facial landmark (x, y)-coordinates to a NumPy\n",
    "        # array\n",
    "        shape = predictor(gray, rect)\n",
    "        shape = face_utils.shape_to_np(shape)\n",
    "\n",
    "        # loop over the face parts individually\n",
    "        for (name, (i, j)) in face_utils.FACIAL_LANDMARKS_IDXS.items():\n",
    "            faceparts[name] = shape[i:j]\n",
    "            # clone the original image so we can draw on it, then\n",
    "            # display the name of the face part on the image\n",
    "            clone = image.copy()\n",
    "            cv2.putText(clone, name, (10, 30), cv2.FONT_HERSHEY_SIMPLEX,\n",
    "                0.7, (0, 0, 255), 2)\n",
    "\n",
    "            # loop over the subset of facial landmarks, drawing the\n",
    "            # specific face part\n",
    "            for (x, y) in shape[i:j]:\n",
    "                cv2.circle(clone, (x, y), 1, (0, 0, 255), -1)\n",
    "\n",
    "            # extract the ROI of the face region as a separate image\n",
    "#             (x, y, w, h) = cv2.boundingRect(np.array([shape[i:j]]))\n",
    "#             roi = image[y:y + h, x:x + w]\n",
    "#             roi = imutils.resize(roi, width=250, inter=cv2.INTER_CUBIC)\n",
    "\n",
    "            #show the particular face part\n",
    "#             cv2.imshow(\"ROI\", roi)\n",
    "#             cv2.imshow(\"Image\", clone)\n",
    "#             cv2.waitKey(0)\n",
    "    return faceparts"
   ]
  },
  {
   "cell_type": "code",
   "execution_count": 101,
   "metadata": {},
   "outputs": [],
   "source": [
    "def getSlope(partofmouth):\n",
    "    mouthpoints = faceparts[partofmouth]\n",
    "    corner1 = mouthpoints[0]\n",
    "    corner2 = mouthpoints[0]\n",
    "    for point in mouthpoints:\n",
    "        if(point[0] < corner1[0]):\n",
    "            corner1 = point\n",
    "        if(point[0] > corner2[0]):\n",
    "            corner2 = point\n",
    "    middle = mouthpoints[0]\n",
    "    middlenum = corner1[0] + (corner2[0]-corner1[0])/2\n",
    "    distance = 100000000000000\n",
    "    for point in mouthpoints:\n",
    "        if(abs(point[0]-middlenum) <= (distance+7)):\n",
    "            if(point[1] > middle[1]):\n",
    "                middle = point \n",
    "                distance = abs(point[0]-middlenum)\n",
    "    slope = (corner1[1]-middle[1])/(corner1[0]-middle[0])\n",
    "    slope2 = (corner2[1]-middle[1])/(corner2[0]-middle[0])\n",
    "    if(slope > 0):\n",
    "        avgslope = (abs(slope)+abs(slope2))/2\n",
    "    else: \n",
    "        avgslope = -1*(abs(slope)+abs(slope2))/2\n",
    "    return avgslope"
   ]
  },
  {
   "cell_type": "code",
   "execution_count": 108,
   "metadata": {},
   "outputs": [],
   "source": [
    "def getFlatSlope(partofmouth):\n",
    "    mouthpoints = faceparts[partofmouth]\n",
    "    corner1 = mouthpoints[0]\n",
    "    corner2 = mouthpoints[0]\n",
    "    for point in mouthpoints:\n",
    "        if(point[0] < corner1[0]):\n",
    "            corner1 = point\n",
    "        if(point[0] > corner2[0]):\n",
    "            corner2 = point\n",
    "    middle = mouthpoints[0]\n",
    "    middlenum = corner1[0] + (corner2[0]-corner1[0])/2\n",
    "    distance = 100000000000000\n",
    "    for point in mouthpoints:\n",
    "        if(abs(point[0]-middlenum) <= (distance+7)):\n",
    "            if(point[1] < middle[1]):\n",
    "                middle = point \n",
    "                distance = abs(point[0]-middlenum)\n",
    "    slope = (corner1[1]-middle[1])/(corner1[0]-middle[0])\n",
    "    slope2 = (corner2[1]-middle[1])/(corner2[0]-middle[0])\n",
    "    if(slope > 0):\n",
    "        avgslope = (abs(slope)+abs(slope2))/2\n",
    "    else: \n",
    "        avgslope = -1*(abs(slope)+abs(slope2))/2\n",
    "    return avgslope"
   ]
  },
  {
   "cell_type": "code",
   "execution_count": 122,
   "metadata": {},
   "outputs": [],
   "source": [
    "def getMouthValue(faceparts, image):\n",
    "    mouthslope = getSlope('mouth')\n",
    "    jawslope = getSlope('jaw')\n",
    "    mouthsecondslope = getFlatSlope('mouth')\n",
    "       \n",
    "#     image = cv2.imread(image)\n",
    "#     image = imutils.resize(image, width=500)\n",
    "#     clone = image.copy()\n",
    "#     cv2.putText(clone, \"mouth\", (10, 30), cv2.FONT_HERSHEY_SIMPLEX,\n",
    "#                 0.7, (0, 0, 255), 2)\n",
    "\n",
    "#     cv2.circle(clone, (corner1[0], corner1[1]), 1, (0, 0, 255), -1)\n",
    "#     cv2.circle(clone, (corner2[0], corner2[1]), 1, (0, 0, 255), -1)\n",
    "#     cv2.circle(clone, (middle[0], middle[1]), 1, (0, 0, 255), -1)\n",
    "\n",
    "#     # show the particular face part\n",
    "#     cv2.imshow(\"Image\", clone)\n",
    "#     cv2.waitKey(0)\n",
    "    \n",
    "    return mouthslope/(jawslope*mouthsecondslope)"
   ]
  },
  {
   "cell_type": "code",
   "execution_count": 123,
   "metadata": {
    "scrolled": true
   },
   "outputs": [],
   "source": [
    "def getEyeValue(faceparts, image):\n",
    "    eyepoints = faceparts['right_eye']\n",
    "    corner1 = eyepoints[0]\n",
    "    corner2 = eyepoints[0]\n",
    "    top = eyepoints[0]\n",
    "    bottom = eyepoints[0]\n",
    "    for point in eyepoints:\n",
    "        if(point[0] < corner1[0]):\n",
    "            corner1 = point\n",
    "        if(point[0] > corner2[0]):\n",
    "            corner2 = point\n",
    "        if(point[1] < top[1]):\n",
    "            top = point\n",
    "        if(point[1] > bottom[1]):\n",
    "            bottom = point\n",
    "    ratio = (corner2[0]-corner1[0])/(bottom[1]-top[1])\n",
    "    eyepoints = faceparts['left_eye']\n",
    "    corner1 = eyepoints[0]\n",
    "    corner2 = eyepoints[0]\n",
    "    top = eyepoints[0]\n",
    "    bottom = eyepoints[0]\n",
    "    for point in eyepoints:\n",
    "        if(point[0] < corner1[0]):\n",
    "            corner1 = point\n",
    "        if(point[0] > corner2[0]):\n",
    "            corner2 = point\n",
    "        if(point[1] < top[1]):\n",
    "            top = point\n",
    "        if(point[1] > bottom[1]):\n",
    "            bottom = point\n",
    "    ratio2 = (corner2[0]-corner1[0])/(bottom[1]-top[1])\n",
    "    avgratio = (ratio+ratio2)/2\n",
    "    \n",
    "#     image = cv2.imread(image)\n",
    "#     image = imutils.resize(image, width=500)\n",
    "#     clone = image.copy()\n",
    "#     cv2.putText(clone, \"eye\", (10, 30), cv2.FONT_HERSHEY_SIMPLEX,\n",
    "#                 0.7, (0, 0, 255), 2)\n",
    "\n",
    "#     cv2.circle(clone, (corner1[0], corner1[1]), 1, (0, 0, 255), -1)\n",
    "#     cv2.circle(clone, (corner2[0], corner2[1]), 1, (0, 0, 255), -1)\n",
    "#     cv2.circle(clone, (bottom[0], bottom[1]), 1, (0, 0, 255), -1)\n",
    "#     cv2.circle(clone, (top[0], top[1]), 1, (0, 0, 255), -1)\n",
    "\n",
    "#     # show the particular face part\n",
    "#     cv2.imshow(\"Image\", clone)\n",
    "#     cv2.waitKey(0)\n",
    "    \n",
    "    return avgratio"
   ]
  },
  {
   "cell_type": "code",
   "execution_count": 124,
   "metadata": {},
   "outputs": [
    {
     "name": "stdout",
     "output_type": "stream",
     "text": [
      "[-4.147234737356803, -2.7551299731788848, -7.531396374822211, -2.3384526018483514, -3.6750750142968838, -2.8918637194138253, -5.507918346508329, -8.504001476048803]\n",
      "[3.5595238095238093, 2.763157894736842, 2.5654761904761902, 5.416666666666666, 3.0888888888888886, 6.4375, 2.769230769230769, 2.6948529411764706]\n"
     ]
    }
   ],
   "source": [
    "happymouthvals = list()\n",
    "happyeyevals = list()\n",
    "for image in happyimages:\n",
    "    faceparts = readImage(image)\n",
    "    happymouthvals.append(getMouthValue(faceparts, image))\n",
    "    happyeyevals.append(getEyeValue(faceparts, image))\n",
    "print(happymouthvals)\n",
    "print(happyeyevals)"
   ]
  },
  {
   "cell_type": "code",
   "execution_count": 125,
   "metadata": {},
   "outputs": [
    {
     "name": "stdout",
     "output_type": "stream",
     "text": [
      "[-1.4901429056743198, -9.412565489347571, -3.802017885968128, -1.8159499740616631, -1.2977701202103795, -2.157298835350701, -0.9979980954726743, -1.241943963469594]\n",
      "[2.916666666666667, 3.656200317965024, 2.8683397683397684, 3.2767857142857144, 4.615384615384615, 3.409090909090909, 2.2464285714285714, 3.036363636363636]\n"
     ]
    }
   ],
   "source": [
    "sadmouthvals = list()\n",
    "sadeyevals = list()\n",
    "for image in sadimages:\n",
    "    faceparts = readImage(image)\n",
    "    sadmouthvals.append(getMouthValue(faceparts, image))\n",
    "    sadeyevals.append(getEyeValue(faceparts, image))\n",
    "print(sadmouthvals)\n",
    "print(sadeyevals)"
   ]
  },
  {
   "cell_type": "code",
   "execution_count": 126,
   "metadata": {},
   "outputs": [
    {
     "data": {
      "text/plain": [
       "[<matplotlib.lines.Line2D at 0xd71a048>]"
      ]
     },
     "execution_count": 126,
     "metadata": {},
     "output_type": "execute_result"
    },
    {
     "data": {
      "image/png": "[encoded data removed]",
      "text/plain": [
       "<Figure size 432x288 with 1 Axes>"
      ]
     },
     "metadata": {
      "needs_background": "light"
     },
     "output_type": "display_data"
    }
   ],
   "source": [
    "plt.plot(happymouthvals, np.zeros_like(happymouthvals) + 0, 'x')\n",
    "plt.plot(sadmouthvals, np.zeros_like(sadmouthvals) + 0, 'o')"
   ]
  },
  {
   "cell_type": "code",
   "execution_count": 67,
   "metadata": {},
   "outputs": [
    {
     "data": {
      "text/plain": [
       "[<matplotlib.lines.Line2D at 0xb92b2b0>]"
      ]
     },
     "execution_count": 67,
     "metadata": {},
     "output_type": "execute_result"
    },
    {
     "data": {
      "image/png": "[encoded data removed]",
      "text/plain": [
       "<Figure size 432x288 with 1 Axes>"
      ]
     },
     "metadata": {
      "needs_background": "light"
     },
     "output_type": "display_data"
    }
   ],
   "source": [
    "plt.plot(happyeyevals, np.zeros_like(happyeyevals) + 0, 'x')\n",
    "plt.plot(sadeyevals, np.zeros_like(sadeyevals) + 0, 'o')"
   ]
  },
  {
   "cell_type": "code",
   "execution_count": null,
   "metadata": {},
   "outputs": [],
   "source": [
    "# visualize all facial landmarks with a transparent overlay\n",
    "output = face_utils.visualize_facial_landmarks(image, shape)\n",
    "cv2.imshow(\"Image\", output)\n",
    "cv2.waitKey(0)"
   ]
  },
  {
   "cell_type": "code",
   "execution_count": null,
   "metadata": {},
   "outputs": [],
   "source": [
    "clone = image.copy()\n",
    "cv2.putText(clone, \"mouth\", (10, 30), cv2.FONT_HERSHEY_SIMPLEX,\n",
    "            0.7, (0, 0, 255), 2)\n",
    " \n",
    "cv2.circle(clone, (corner1[0], corner1[1]), 1, (0, 0, 255), -1)\n",
    "cv2.circle(clone, (corner2[0], corner2[1]), 1, (0, 0, 255), -1)\n",
    "cv2.circle(clone, (middle[0], middle[1]), 1, (0, 0, 255), -1)\n",
    "\n",
    "# show the particular face part\n",
    "cv2.imshow(\"Image\", clone)\n",
    "cv2.waitKey(0)"
   ]
  },
  {
   "cell_type": "code",
   "execution_count": null,
   "metadata": {},
   "outputs": [],
   "source": [
    "def getMouthValue(faceparts, image):\n",
    "    eyepoints = faceparts['mouth']\n",
    "    corner1 = eyepoints[0]\n",
    "    corner2 = eyepoints[0]\n",
    "    top = eyepoints[0]\n",
    "    bottom = eyepoints[0]\n",
    "    for point in eyepoints:\n",
    "        if(point[0] < corner1[0]):\n",
    "            corner1 = point\n",
    "        if(point[0] > corner2[0]):\n",
    "            corner2 = point\n",
    "        if(point[1] < top[1]):\n",
    "            top = point\n",
    "        if(point[1] > bottom[1]):\n",
    "            bottom = point\n",
    "    ratio = (corner2[0]-corner1[0])/(bottom[1]-top[1])\n",
    "    \n",
    "#     image = cv2.imread(image)\n",
    "#     image = imutils.resize(image, width=500)\n",
    "#     clone = image.copy()\n",
    "#     cv2.putText(clone, \"eye\", (10, 30), cv2.FONT_HERSHEY_SIMPLEX,\n",
    "#                 0.7, (0, 0, 255), 2)\n",
    "\n",
    "#     cv2.circle(clone, (corner1[0], corner1[1]), 1, (0, 0, 255), -1)\n",
    "#     cv2.circle(clone, (corner2[0], corner2[1]), 1, (0, 0, 255), -1)\n",
    "#     cv2.circle(clone, (bottom[0], bottom[1]), 1, (0, 0, 255), -1)\n",
    "#     cv2.circle(clone, (top[0], top[1]), 1, (0, 0, 255), -1)\n",
    "\n",
    "#     # show the particular face part\n",
    "#     cv2.imshow(\"Image\", clone)\n",
    "#     cv2.waitKey(0)\n",
    "    \n",
    "    return ratio"
   ]
  }
 ],
 "metadata": {
  "kernelspec": {
   "display_name": "Python 3",
   "language": "python",
   "name": "python3"
  },
  "language_info": {
   "codemirror_mode": {
    "name": "ipython",
    "version": 3
   },
   "file_extension": ".py",
   "mimetype": "text/x-python",
   "name": "python",
   "nbconvert_exporter": "python",
   "pygments_lexer": "ipython3",
   "version": "3.7.3"
  }
 },
 "nbformat": 4,
 "nbformat_minor": 2
}
