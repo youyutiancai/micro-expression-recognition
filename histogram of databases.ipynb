{
 "cells": [
  {
   "cell_type": "code",
   "execution_count": 1,
   "metadata": {},
   "outputs": [],
   "source": [
    "import pandas as pd\n",
    "import numpy as np"
   ]
  },
  {
   "cell_type": "code",
   "execution_count": 2,
   "metadata": {},
   "outputs": [],
   "source": [
    "samm = pd.read_csv('./database/SAMM/samm.csv')\n",
    "casme = pd.read_csv('./database/CASME/casme.csv')\n",
    "casme2 = pd.read_csv('./database/CASME2/casme2.csv')"
   ]
  },
  {
   "cell_type": "code",
   "execution_count": 3,
   "metadata": {},
   "outputs": [],
   "source": [
    "def gatherTime(database, fps):\n",
    "    for i in range(len(database)):\n",
    "        if (database.ApexFrame[i] == '/'):\n",
    "            continue\n",
    "        diff = (int(database.ApexFrame[i]) - int(database.OnsetFrame[i])) / fps\n",
    "        if database.Emotion[i] in ['Happiness', 'happiness']:\n",
    "            emotions['happiness'].append(diff)\n",
    "        if database.Emotion[i] in ['Fear', 'fear']:\n",
    "            emotions['fear'].append(diff)\n",
    "        if database.Emotion[i] in ['Surprise', 'surprise']:\n",
    "            emotions['surprise'].append(diff)\n",
    "        if database.Emotion[i] in ['Disgust', 'disgust']:\n",
    "            emotions['disgust'].append(diff)"
   ]
  },
  {
   "cell_type": "code",
   "execution_count": 4,
   "metadata": {},
   "outputs": [],
   "source": [
    "emotions = {\n",
    "    'happiness': [],\n",
    "    'fear': [],\n",
    "    'surprise': [],\n",
    "    'disgust': []\n",
    "}"
   ]
  },
  {
   "cell_type": "code",
   "execution_count": 5,
   "metadata": {},
   "outputs": [],
   "source": [
    "gatherTime(casme, 60)\n",
    "gatherTime(casme2, 200)\n",
    "gatherTime(samm, 200)"
   ]
  },
  {
   "cell_type": "code",
   "execution_count": null,
   "metadata": {},
   "outputs": [],
   "source": []
  },
  {
   "cell_type": "code",
   "execution_count": 32,
   "metadata": {},
   "outputs": [
    {
     "name": "stdout",
     "output_type": "stream",
     "text": [
      "{'happiness': [0.2, 0.4, 0.45, 0.16666666666666666, 0.08333333333333333, 0.16666666666666666, 0.3333333333333333, 0.38333333333333336, 0.3], 'fear': [], 'surprise': [], 'disgust': []}\n"
     ]
    }
   ],
   "source": []
  },
  {
   "cell_type": "code",
   "execution_count": 6,
   "metadata": {},
   "outputs": [
    {
     "data": {
      "text/plain": [
       "(array([ 8, 28, 16, 12,  3,  0,  0,  0,  0], dtype=int64),\n",
       " array([0. , 0.1, 0.2, 0.3, 0.4, 0.5, 0.6, 0.7, 0.8, 0.9]))"
      ]
     },
     "execution_count": 6,
     "metadata": {},
     "output_type": "execute_result"
    }
   ],
   "source": [
    "np.histogram(emotions['happiness'], bins = np.arange(10) / 10)"
   ]
  },
  {
   "cell_type": "code",
   "execution_count": 7,
   "metadata": {},
   "outputs": [
    {
     "data": {
      "text/plain": [
       "(array([1, 7, 4, 0, 0, 0, 0, 0, 0], dtype=int64),\n",
       " array([0. , 0.1, 0.2, 0.3, 0.4, 0.5, 0.6, 0.7, 0.8, 0.9]))"
      ]
     },
     "execution_count": 7,
     "metadata": {},
     "output_type": "execute_result"
    }
   ],
   "source": [
    "np.histogram(emotions['fear'], bins = np.arange(10) / 10)"
   ]
  },
  {
   "cell_type": "code",
   "execution_count": 8,
   "metadata": {},
   "outputs": [
    {
     "data": {
      "text/plain": [
       "(array([ 7, 37, 13,  3,  0,  0,  0,  0,  0], dtype=int64),\n",
       " array([0. , 0.1, 0.2, 0.3, 0.4, 0.5, 0.6, 0.7, 0.8, 0.9]))"
      ]
     },
     "execution_count": 8,
     "metadata": {},
     "output_type": "execute_result"
    }
   ],
   "source": [
    "np.histogram(emotions['surprise'], bins = np.arange(10) / 10)"
   ]
  },
  {
   "cell_type": "code",
   "execution_count": 9,
   "metadata": {},
   "outputs": [
    {
     "data": {
      "text/plain": [
       "(array([15, 69, 27,  4,  0,  0,  0,  0,  0], dtype=int64),\n",
       " array([0. , 0.1, 0.2, 0.3, 0.4, 0.5, 0.6, 0.7, 0.8, 0.9]))"
      ]
     },
     "execution_count": 9,
     "metadata": {},
     "output_type": "execute_result"
    }
   ],
   "source": [
    "np.histogram(emotions['disgust'], bins = np.arange(10) / 10)"
   ]
  },
  {
   "cell_type": "code",
   "execution_count": null,
   "metadata": {},
   "outputs": [],
   "source": []
  }
 ],
 "metadata": {
  "kernelspec": {
   "display_name": "Python 3",
   "language": "python",
   "name": "python3"
  },
  "language_info": {
   "codemirror_mode": {
    "name": "ipython",
    "version": 3
   },
   "file_extension": ".py",
   "mimetype": "text/x-python",
   "name": "python",
   "nbconvert_exporter": "python",
   "pygments_lexer": "ipython3",
   "version": "3.7.3"
  }
 },
 "nbformat": 4,
 "nbformat_minor": 2
}
